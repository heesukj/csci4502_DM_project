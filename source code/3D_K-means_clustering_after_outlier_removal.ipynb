{
 "cells": [
  {
   "cell_type": "markdown",
   "metadata": {},
   "source": [
    "# 3D K-Means Clustering After the Removal of Three Outliers"
   ]
  },
  {
   "cell_type": "markdown",
   "metadata": {},
   "source": [
    "## Dimensions: : Pickup Latitude (x), Longitude(y), & Frequency(z) "
   ]
  },
  {
   "cell_type": "code",
   "execution_count": 16,
   "metadata": {},
   "outputs": [],
   "source": [
    "%matplotlib inline\n",
    "import math\n",
    "import pandas as pd\n",
    "import numpy as np\n",
    "import scipy as sci\n",
    "from scipy import stats\n",
    "from sklearn.cluster import KMeans\n",
    "import matplotlib.pyplot as plot\n",
    "from copy import deepcopy"
   ]
  },
  {
   "cell_type": "markdown",
   "metadata": {},
   "source": [
    "## Read Data"
   ]
  },
  {
   "cell_type": "code",
   "execution_count": 17,
   "metadata": {},
   "outputs": [
    {
     "name": "stdout",
     "output_type": "stream",
     "text": [
      "(360, 4)\n"
     ]
    },
    {
     "data": {
      "text/html": [
       "<div>\n",
       "<style scoped>\n",
       "    .dataframe tbody tr th:only-of-type {\n",
       "        vertical-align: middle;\n",
       "    }\n",
       "\n",
       "    .dataframe tbody tr th {\n",
       "        vertical-align: top;\n",
       "    }\n",
       "\n",
       "    .dataframe thead th {\n",
       "        text-align: right;\n",
       "    }\n",
       "</style>\n",
       "<table border=\"1\" class=\"dataframe\">\n",
       "  <thead>\n",
       "    <tr style=\"text-align: right;\">\n",
       "      <th></th>\n",
       "      <th>pickup_lat</th>\n",
       "      <th>pickup_lon</th>\n",
       "      <th>count_pickup_loc</th>\n",
       "      <th>class</th>\n",
       "    </tr>\n",
       "  </thead>\n",
       "  <tbody>\n",
       "    <tr>\n",
       "      <th>355</th>\n",
       "      <td>411</td>\n",
       "      <td>545</td>\n",
       "      <td>328605</td>\n",
       "      <td>3</td>\n",
       "    </tr>\n",
       "    <tr>\n",
       "      <th>356</th>\n",
       "      <td>500</td>\n",
       "      <td>686</td>\n",
       "      <td>346783</td>\n",
       "      <td>3</td>\n",
       "    </tr>\n",
       "    <tr>\n",
       "      <th>357</th>\n",
       "      <td>410</td>\n",
       "      <td>754</td>\n",
       "      <td>378455</td>\n",
       "      <td>3</td>\n",
       "    </tr>\n",
       "    <tr>\n",
       "      <th>358</th>\n",
       "      <td>6</td>\n",
       "      <td>225</td>\n",
       "      <td>449380</td>\n",
       "      <td>3</td>\n",
       "    </tr>\n",
       "    <tr>\n",
       "      <th>359</th>\n",
       "      <td>210</td>\n",
       "      <td>470</td>\n",
       "      <td>456092</td>\n",
       "      <td>3</td>\n",
       "    </tr>\n",
       "  </tbody>\n",
       "</table>\n",
       "</div>"
      ],
      "text/plain": [
       "     pickup_lat  pickup_lon  count_pickup_loc  class\n",
       "355         411         545            328605      3\n",
       "356         500         686            346783      3\n",
       "357         410         754            378455      3\n",
       "358           6         225            449380      3\n",
       "359         210         470            456092      3"
      ]
     },
     "execution_count": 17,
     "metadata": {},
     "output_type": "execute_result"
    }
   ],
   "source": [
    "plot.rcParams['figure.figsize'] = (12, 7)\n",
    "plot.style.use('ggplot')\n",
    "\n",
    "data = pd.read_csv('dataset_kmeans_clustering_top30_without_outliers.csv')\n",
    "print(data.shape)\n",
    "data.tail()"
   ]
  },
  {
   "cell_type": "markdown",
   "metadata": {},
   "source": [
    "## Re-evaluate the optimal number of clusters (k) using Elbow Method"
   ]
  },
  {
   "cell_type": "code",
   "execution_count": 18,
   "metadata": {},
   "outputs": [
    {
     "data": {
      "image/png": "[encoded data removed]",
      "text/plain": [
       "<matplotlib.figure.Figure at 0xa1d86e6d8>"
      ]
     },
     "metadata": {},
     "output_type": "display_data"
    }
   ],
   "source": [
    "#  Slice two columns, pickup_lan and pickup_lon, of data and convert them into a list respectively applying .values\n",
    "X=data.iloc[:, [0,1,2]].values  \n",
    "# print(X)\n",
    "\n",
    "#  Find the optimal number of clusters (totoal no. of clusters = 15)\n",
    "wcss = []    # wcss: Within Clusters Sum of Squares'\n",
    "for i in range(1,16):\n",
    "    kmeans = KMeans(n_clusters = i, init = 'k-means++', random_state = 0)\n",
    "    kmeans.fit(X)\n",
    "    wcss.append(kmeans.inertia_) # inertia_ = float: Sum of squared distances of samples to their closest cluster center.\n",
    "     \n",
    "plot.plot(range(1,16), wcss)   # x-axis: range(1,11), y-axis: wcss\n",
    "plot.title(\"Elbow Method\")\n",
    "plot.xlabel('Number of Clusters')\n",
    "plot.ylabel('WCSS')\n",
    "plot.show()"
   ]
  },
  {
   "cell_type": "markdown",
   "metadata": {},
   "source": [
    "### Use k = 3 for K-Means clustering "
   ]
  },
  {
   "cell_type": "code",
   "execution_count": 13,
   "metadata": {},
   "outputs": [
    {
     "name": "stdout",
     "output_type": "stream",
     "text": [
      "[[     8    220      2]\n",
      " [    20    378      2]\n",
      " [    66    405      2]\n",
      " ...\n",
      " [   410    754 378455]\n",
      " [     6    225 449380]\n",
      " [   210    470 456092]]\n"
     ]
    }
   ],
   "source": [
    "import sklearn\n",
    "from mpl_toolkits.mplot3d import Axes3D\n",
    "from sklearn.cluster import KMeans\n",
    "from sklearn import datasets\n",
    "\n",
    "np.random.seed(5)\n",
    "\n",
    "X = data.iloc[:, 0:3].values  # pickup_lat, pickup_lon, count_pickup_loc\n",
    "y_class = data.iloc[:, [3]].values  # four classes\n",
    "print(X)\n",
    "# print(y_class)\n",
    "\n",
    "# sklearn.cluster.KMeans: precompute_distances : {‘auto’, True, False} => repeated calculate 'Euclidean Distance' from each point to an aribitrary vector\n",
    "k = 3\n",
    "kmeans = KMeans(n_clusters = k, init = 'k-means++', max_iter=1000, n_init = 100, random_state=0)   # If None, the random number generator is the RandomState instance used by np.random.\n",
    "y_kmeans = kmeans.fit_predict(X) # Compute cluster centers and predict cluster index for each sample.kK"
   ]
  },
  {
   "cell_type": "markdown",
   "metadata": {},
   "source": [
    "### Plotting 3D Model Outputs"
   ]
  },
  {
   "cell_type": "code",
   "execution_count": 14,
   "metadata": {},
   "outputs": [],
   "source": [
    "import plotly\n",
    "import plotly.plotly as py\n",
    "import plotly.graph_objs as go\n",
    "from plotly.offline import download_plotlyjs, init_notebook_mode, plot, iplot\n",
    "\n",
    "plotly.tools.set_credentials_file(username='kalbee', api_key='yPmNTGSvOrY1KrVfP0tA')\n",
    "\n",
    "def traceSet(x, y, z, c, label, s=2):\n",
    "    trace_points = go.Scatter3d(x=x, y=y, z=z, mode='markers', \n",
    "                                marker=dict(size=s, line=dict(color='rgb(0, 0, 0)', width=0.5), color=c, opacity=1),name=label)\n",
    "#     print(\"trace_points: \", trace_points)\n",
    "    return trace_points;\n",
    "\n",
    "def displayChart(title, x_colname, x_range, y_colname, y_range, z_colname, z_range, traces):\n",
    "    layout = go.Layout(title=title, \n",
    "#                        font=dict(family='Droid Serif', size=18, color='lightgrey'),\n",
    "                       xaxis=dict( \n",
    "                                    title='Latitude',\n",
    "                                    titlefont=dict(\n",
    "                                        family='Droid Serif',\n",
    "                                        size=16,\n",
    "                                        color='lightgrey'\n",
    "                                    ),\n",
    "                                    showticklabels=True,\n",
    "                                    tickangle=45,\n",
    "                                    tickfont=dict(\n",
    "                                        family='Droid Serif',\n",
    "                                        size=12,\n",
    "                                        color='black'\n",
    "                                    )),\n",
    "                        yaxis=dict(\n",
    "                                    title='Longitude',\n",
    "                                    titlefont=dict(\n",
    "                                        family='Droid Serif',\n",
    "                                        size=16,\n",
    "                                        color='lightgrey'\n",
    "                                    ),\n",
    "                                    showticklabels=True,\n",
    "                                    tickangle=45,\n",
    "                                    tickfont=dict(\n",
    "                                        family='Droid Serif',\n",
    "                                        size=12,\n",
    "                                        color='black'\n",
    "\n",
    "                                    )),\n",
    "                       scene = dict(xaxis=dict(title=x_colname, range = x_range),\n",
    "                                    yaxis=dict(title=y_colname, range = y_range),\n",
    "                                    zaxis=dict(title=z_colname, range = z_range)))\n",
    "        \n",
    "    fig = go.Figure(data=traces, layout=layout)\n",
    "    plotly.offline.plot(fig)\n",
    "\n",
    "#visualising the clusters\n",
    "Centroid = kmeans.cluster_centers_\n",
    "# print(Centroid)\n",
    "centroids = traceSet(Centroid[:, 0], Centroid[:, 1], Centroid[:, 2], s= 8, c = 'yellow', label='Centroids')\n",
    "t1 = traceSet(X[y_kmeans == 0, 0], X[y_kmeans == 0, 1], X[y_kmeans == 0, 2], s= 3, c='red', label = 'C1') #match with red=1 initial class\n",
    "t2 = traceSet(X[y_kmeans == 1, 0], X[y_kmeans == 1, 1], X[y_kmeans == 1, 2], s= 3, c='blue', label = 'C2') #match with blue=3 initial class\n",
    "t3 = traceSet(X[y_kmeans == 2, 0], X[y_kmeans == 2, 1], X[y_kmeans == 2, 2], s= 3, c='#84F044', label = 'C3') #match with #84F044=2 initial class\n",
    "# t4 = traceSet(X[y_kmeans == 3, 0], X[y_kmeans == 3, 1], X[y_kmeans == 3, 2], s= 3, c='green', label = 'C4') #match with green=0 initial class\n",
    "# t5 = traceSet(X[y_kmeans == 4, 0], X[y_kmeans == 4, 1], X[y_kmeans == 4, 2], s= 3, c='pink', label = 'C5') #match with green=0 initial class\n",
    "# t6 = traceSet(X[y_kmeans == 5, 0], X[y_kmeans == 5, 1], X[y_kmeans == 5, 2], s= 3, c='black', label = 'C5') #match with green=0 initial class\n",
    "x=X[:,0]   # column 0: pickup_lan\n",
    "y=X[:,1]   # column 1: pickup_lon\n",
    "z=X[:,2]   # column 2: count_pickup_loc\n",
    "\n",
    "# print(\"x\", x)\n",
    "# print(\"y\", y)\n",
    "# print(\"z\", z)\n",
    "\n",
    "# print(\"min max x\", [min(x),max(x)])\n",
    "# print(\"min max y\", [min(y),max(y)])\n",
    "# print(\"min max z\", [min(z)-1,max(z)])\n",
    "    \n",
    "displayChart(\"Frequency by Pickup Location\", \"Latitude\", [min(x),max(x)], \n",
    "          \"Longitude\", [min(y),max(y)], \"Frequency\", [[min(z)-1,max(z)]], [t1,t2,t3,centroids])"
   ]
  },
  {
   "cell_type": "markdown",
   "metadata": {},
   "source": [
    "### Display the New Centroids for cluster 1, cluster 2, cluster 3, cluster 4"
   ]
  },
  {
   "cell_type": "code",
   "execution_count": 15,
   "metadata": {},
   "outputs": [
    {
     "name": "stdout",
     "output_type": "stream",
     "text": [
      "Centroids:  [[2.71053731e+02 5.43838806e+02 4.41192836e+03]\n",
      " [3.04000000e+02 5.49428571e+02 3.64147143e+05]\n",
      " [2.40166667e+02 5.15722222e+02 1.63345889e+05]]\n"
     ]
    }
   ],
   "source": [
    "print('Centroids: ', Centroid)"
   ]
  },
  {
   "cell_type": "code",
   "execution_count": null,
   "metadata": {},
   "outputs": [],
   "source": []
  }
 ],
 "metadata": {
  "kernelspec": {
   "display_name": "Python 3",
   "language": "python",
   "name": "python3"
  },
  "language_info": {
   "codemirror_mode": {
    "name": "ipython",
    "version": 3
   },
   "file_extension": ".py",
   "mimetype": "text/x-python",
   "name": "python",
   "nbconvert_exporter": "python",
   "pygments_lexer": "ipython3",
   "version": "3.6.3"
  }
 },
 "nbformat": 4,
 "nbformat_minor": 2
}
