{
 "cells": [
  {
   "cell_type": "markdown",
   "metadata": {},
   "source": [
    "# Frequent Itemset for Loop"
   ]
  },
  {
   "cell_type": "code",
   "execution_count": 1,
   "metadata": {},
   "outputs": [],
   "source": [
    "%matplotlib inline\n",
    "import math\n",
    "import pandas as pd\n",
    "import numpy as np\n",
    "import scipy as sci\n",
    "from scipy import stats\n",
    "import matplotlib.pyplot as plt\n",
    "from dateutil.parser import parse"
   ]
  },
  {
   "cell_type": "markdown",
   "metadata": {},
   "source": [
    "## Read and Pull  2016 Pickup Latitude and Longitude for Loop (32)"
   ]
  },
  {
   "cell_type": "code",
   "execution_count": 2,
   "metadata": {},
   "outputs": [
    {
     "name": "stderr",
     "output_type": "stream",
     "text": [
      "/Users/heesukjang/miniconda3/lib/python3.6/site-packages/ipykernel_launcher.py:22: UserWarning: Boolean Series key will be reindexed to match DataFrame index.\n"
     ]
    },
    {
     "name": "stdout",
     "output_type": "stream",
     "text": [
      "<class 'pandas.core.frame.DataFrame'>\n",
      "RangeIndex: 2338884 entries, 0 to 2338883\n",
      "Data columns (total 2 columns):\n",
      "pickup_latitude     float64\n",
      "pickup_longitude    float64\n",
      "dtypes: float64(2)\n",
      "memory usage: 35.7 MB\n"
     ]
    },
    {
     "data": {
      "text/html": [
       "<div>\n",
       "<style scoped>\n",
       "    .dataframe tbody tr th:only-of-type {\n",
       "        vertical-align: middle;\n",
       "    }\n",
       "\n",
       "    .dataframe tbody tr th {\n",
       "        vertical-align: top;\n",
       "    }\n",
       "\n",
       "    .dataframe thead th {\n",
       "        text-align: right;\n",
       "    }\n",
       "</style>\n",
       "<table border=\"1\" class=\"dataframe\">\n",
       "  <thead>\n",
       "    <tr style=\"text-align: right;\">\n",
       "      <th></th>\n",
       "      <th>pickup_latitude</th>\n",
       "      <th>pickup_longitude</th>\n",
       "    </tr>\n",
       "  </thead>\n",
       "  <tbody>\n",
       "    <tr>\n",
       "      <th>0</th>\n",
       "      <td>18.0</td>\n",
       "      <td>610.0</td>\n",
       "    </tr>\n",
       "    <tr>\n",
       "      <th>1</th>\n",
       "      <td>18.0</td>\n",
       "      <td>610.0</td>\n",
       "    </tr>\n",
       "    <tr>\n",
       "      <th>2</th>\n",
       "      <td>18.0</td>\n",
       "      <td>610.0</td>\n",
       "    </tr>\n",
       "    <tr>\n",
       "      <th>3</th>\n",
       "      <td>30.0</td>\n",
       "      <td>405.0</td>\n",
       "    </tr>\n",
       "    <tr>\n",
       "      <th>4</th>\n",
       "      <td>18.0</td>\n",
       "      <td>610.0</td>\n",
       "    </tr>\n",
       "  </tbody>\n",
       "</table>\n",
       "</div>"
      ],
      "text/plain": [
       "   pickup_latitude  pickup_longitude\n",
       "0             18.0             610.0\n",
       "1             18.0             610.0\n",
       "2             18.0             610.0\n",
       "3             30.0             405.0\n",
       "4             18.0             610.0"
      ]
     },
     "execution_count": 2,
     "metadata": {},
     "output_type": "execute_result"
    }
   ],
   "source": [
    "pd.set_option('mode.chained_assignment', None)\n",
    "# Read the data from each month in 2016 and save them into monthly dataframe called jan, feb, mar,...\n",
    "jan = pd.read_csv('chicago_taxi_trips_2016_01.csv')\n",
    "feb = pd.read_csv('chicago_taxi_trips_2016_02.csv')\n",
    "mar = pd.read_csv('chicago_taxi_trips_2016_03.csv')\n",
    "apr = pd.read_csv('chicago_taxi_trips_2016_04.csv')\n",
    "may = pd.read_csv('chicago_taxi_trips_2016_05.csv')\n",
    "june = pd.read_csv('chicago_taxi_trips_2016_06.csv')\n",
    "july = pd.read_csv('chicago_taxi_trips_2016_07.csv')\n",
    "aug = pd.read_csv('chicago_taxi_trips_2016_08.csv')\n",
    "sept = pd.read_csv('chicago_taxi_trips_2016_09.csv')\n",
    "octo = pd.read_csv('chicago_taxi_trips_2016_10.csv')\n",
    "nov = pd.read_csv('chicago_taxi_trips_2016_11.csv')\n",
    "dec = pd.read_csv('chicago_taxi_trips_2016_12.csv')\n",
    "\n",
    "# Clean (Remove) the columns and rows that are not applicable, unknown or missing values from each month\n",
    "loop_pickup16 = pd.DataFrame()\n",
    "top_pickup = []\n",
    "for mo in jan, feb, mar, apr, may, june, july, aug, sept, octo, nov, dec:\n",
    "    mo = mo[mo['pickup_community_area'].isin([32.0])]  # 8: Near North, 32: Loop, 28: Near West\n",
    "    mo = mo.drop(['fare','trip_miles','trip_seconds','pickup_community_area','dropoff_community_area','taxi_id','trip_start_timestamp','trip_end_timestamp','dropoff_latitude','dropoff_longitude','tips','pickup_census_tract', 'dropoff_census_tract','tolls','extras','trip_total','payment_type','company'], axis=1)\n",
    "    mo = mo[(mo['pickup_latitude'].notnull()) & (jan['pickup_longitude'].notnull()) ]\n",
    "\n",
    "    top_pickup.append(mo)\n",
    "\n",
    "loop_pickup16 = pd.concat(top_pickup, axis=0, join='outer', ignore_index=True)\n",
    "loop_pickup16 = loop_pickup16.drop('Unnamed: 0', 1)\n",
    "\n",
    "loop_pickup16.info()\n",
    "loop_pickup16.head()"
   ]
  },
  {
   "cell_type": "markdown",
   "metadata": {},
   "source": [
    "## Convert each column into a list and Create a tuple"
   ]
  },
  {
   "cell_type": "code",
   "execution_count": 3,
   "metadata": {},
   "outputs": [],
   "source": [
    "g1 = loop_pickup16['pickup_latitude'].values\n",
    "g2 = loop_pickup16['pickup_longitude'].values\n",
    "location = tuple(zip(g1, g2))"
   ]
  },
  {
   "cell_type": "markdown",
   "metadata": {},
   "source": [
    "## Populate Frequency for the Freq-Itemset (pickup latitude, longitude)"
   ]
  },
  {
   "cell_type": "code",
   "execution_count": 4,
   "metadata": {},
   "outputs": [
    {
     "data": {
      "text/plain": [
       "{frozenset({69.0}): 10501,\n",
       " frozenset({329.0}): 10501,\n",
       " frozenset({69.0, 329.0}): 10501,\n",
       " frozenset({30.0}): 89581,\n",
       " frozenset({405.0}): 89581,\n",
       " frozenset({30.0, 405.0}): 89581,\n",
       " frozenset({64.0}): 205170,\n",
       " frozenset({231.0}): 205170,\n",
       " frozenset({64.0, 231.0}): 205170,\n",
       " frozenset({385.0}): 306818,\n",
       " frozenset({478.0}): 306818,\n",
       " frozenset({385.0, 478.0}): 306818,\n",
       " frozenset({605.0}): 628970,\n",
       " frozenset({744.0}): 628970,\n",
       " frozenset({605.0, 744.0}): 628970,\n",
       " frozenset({18.0}): 1097844,\n",
       " frozenset({610.0}): 1097844,\n",
       " frozenset({18.0, 610.0}): 1097844}"
      ]
     },
     "execution_count": 4,
     "metadata": {},
     "output_type": "execute_result"
    }
   ],
   "source": [
    "from pymining import itemmining\n",
    "relim_input = itemmining.get_relim_input(location)\n",
    "report = itemmining.relim(relim_input, min_support=2)\n",
    "report"
   ]
  },
  {
   "cell_type": "code",
   "execution_count": null,
   "metadata": {},
   "outputs": [],
   "source": []
  }
 ],
 "metadata": {
  "kernelspec": {
   "display_name": "Python 3",
   "language": "python",
   "name": "python3"
  },
  "language_info": {
   "codemirror_mode": {
    "name": "ipython",
    "version": 3
   },
   "file_extension": ".py",
   "mimetype": "text/x-python",
   "name": "python",
   "nbconvert_exporter": "python",
   "pygments_lexer": "ipython3",
   "version": "3.6.3"
  }
 },
 "nbformat": 4,
 "nbformat_minor": 2
}
