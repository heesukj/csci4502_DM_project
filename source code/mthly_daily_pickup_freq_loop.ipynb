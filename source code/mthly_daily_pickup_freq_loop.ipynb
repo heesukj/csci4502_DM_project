{
 "cells": [
  {
   "cell_type": "markdown",
   "metadata": {},
   "source": [
    "#  Monthly & Daily Pickup Frequency for Loop"
   ]
  },
  {
   "cell_type": "code",
   "execution_count": 2,
   "metadata": {},
   "outputs": [],
   "source": [
    "import math\n",
    "import pandas as pd\n",
    "import numpy as np\n",
    "import scipy as sci\n",
    "from scipy import stats"
   ]
  },
  {
   "cell_type": "markdown",
   "metadata": {},
   "source": [
    "## Read Data"
   ]
  },
  {
   "cell_type": "code",
   "execution_count": 3,
   "metadata": {},
   "outputs": [
    {
     "name": "stdout",
     "output_type": "stream",
     "text": [
      "<class 'pandas.core.frame.DataFrame'>\n",
      "RangeIndex: 4156245 entries, 0 to 4156244\n",
      "Data columns (total 3 columns):\n",
      "pickup_community_area    float64\n",
      "month                    int64\n",
      "day                      int64\n",
      "dtypes: float64(1), int64(2)\n",
      "memory usage: 95.1 MB\n"
     ]
    },
    {
     "data": {
      "text/html": [
       "<div>\n",
       "<style scoped>\n",
       "    .dataframe tbody tr th:only-of-type {\n",
       "        vertical-align: middle;\n",
       "    }\n",
       "\n",
       "    .dataframe tbody tr th {\n",
       "        vertical-align: top;\n",
       "    }\n",
       "\n",
       "    .dataframe thead th {\n",
       "        text-align: right;\n",
       "    }\n",
       "</style>\n",
       "<table border=\"1\" class=\"dataframe\">\n",
       "  <thead>\n",
       "    <tr style=\"text-align: right;\">\n",
       "      <th></th>\n",
       "      <th>pickup_community_area</th>\n",
       "      <th>month</th>\n",
       "      <th>day</th>\n",
       "    </tr>\n",
       "  </thead>\n",
       "  <tbody>\n",
       "    <tr>\n",
       "      <th>0</th>\n",
       "      <td>32.0</td>\n",
       "      <td>1</td>\n",
       "      <td>12</td>\n",
       "    </tr>\n",
       "    <tr>\n",
       "      <th>1</th>\n",
       "      <td>32.0</td>\n",
       "      <td>1</td>\n",
       "      <td>20</td>\n",
       "    </tr>\n",
       "    <tr>\n",
       "      <th>2</th>\n",
       "      <td>32.0</td>\n",
       "      <td>1</td>\n",
       "      <td>29</td>\n",
       "    </tr>\n",
       "    <tr>\n",
       "      <th>3</th>\n",
       "      <td>32.0</td>\n",
       "      <td>1</td>\n",
       "      <td>4</td>\n",
       "    </tr>\n",
       "    <tr>\n",
       "      <th>4</th>\n",
       "      <td>32.0</td>\n",
       "      <td>1</td>\n",
       "      <td>19</td>\n",
       "    </tr>\n",
       "  </tbody>\n",
       "</table>\n",
       "</div>"
      ],
      "text/plain": [
       "   pickup_community_area  month  day\n",
       "0                   32.0      1   12\n",
       "1                   32.0      1   20\n",
       "2                   32.0      1   29\n",
       "3                   32.0      1    4\n",
       "4                   32.0      1   19"
      ]
     },
     "execution_count": 3,
     "metadata": {},
     "output_type": "execute_result"
    }
   ],
   "source": [
    "time_series_freq_loop = pd.read_csv('time_series_pickup_freq_loop.csv')\n",
    "time_series_freq_loop.info()\n",
    "time_series_freq_loop.head()"
   ]
  },
  {
   "cell_type": "markdown",
   "metadata": {},
   "source": [
    "## Find monthly and daily pickup frequency and Sort in the descending order"
   ]
  },
  {
   "cell_type": "code",
   "execution_count": 4,
   "metadata": {},
   "outputs": [
    {
     "name": "stdout",
     "output_type": "stream",
     "text": [
      "month\n",
      "3     419155\n",
      "4     402532\n",
      "6     401399\n",
      "5     392671\n",
      "2     371782\n",
      "7     360868\n",
      "8     344455\n",
      "10    341331\n",
      "12    305378\n",
      "11    304403\n",
      "9     299580\n",
      "1     212691\n",
      "Name: month, dtype: int64\n",
      "day\n",
      "8     150575\n",
      "9     147178\n",
      "15    146820\n",
      "12    145112\n",
      "22    144968\n",
      "19    144847\n",
      "18    143906\n",
      "29    143362\n",
      "14    142851\n",
      "11    142751\n",
      "21    140961\n",
      "7     140575\n",
      "13    138407\n",
      "16    138327\n",
      "20    137765\n",
      "2     136694\n",
      "1     136445\n",
      "28    135141\n",
      "4     134173\n",
      "6     133697\n",
      "26    132652\n",
      "10    132477\n",
      "5     132112\n",
      "17    132005\n",
      "3     129722\n",
      "23    128913\n",
      "27    126238\n",
      "25    125342\n",
      "24    116388\n",
      "30    109999\n",
      "31     65842\n",
      "Name: day, dtype: int64\n"
     ]
    }
   ],
   "source": [
    "month_pickup_freq = time_series_freq_loop.groupby('month')['month'].count().sort_values(ascending=False)\n",
    "print(month_pickup_freq)\n",
    "day_pickup_freq = time_series_freq_loop.groupby('day')['day'].count().sort_values(ascending=False)\n",
    "print(day_pickup_freq)"
   ]
  },
  {
   "cell_type": "code",
   "execution_count": null,
   "metadata": {},
   "outputs": [],
   "source": []
  }
 ],
 "metadata": {
  "kernelspec": {
   "display_name": "Python 3",
   "language": "python",
   "name": "python3"
  },
  "language_info": {
   "codemirror_mode": {
    "name": "ipython",
    "version": 3
   },
   "file_extension": ".py",
   "mimetype": "text/x-python",
   "name": "python",
   "nbconvert_exporter": "python",
   "pygments_lexer": "ipython3",
   "version": "3.6.3"
  }
 },
 "nbformat": 4,
 "nbformat_minor": 2
}
