{
 "cells": [
  {
   "cell_type": "markdown",
   "metadata": {},
   "source": [
    "#  Monthly & Daily Pickup Frequency for Loop"
   ]
  },
  {
   "cell_type": "code",
   "execution_count": 4,
   "metadata": {},
   "outputs": [],
   "source": [
    "import math\n",
    "import pandas as pd\n",
    "import numpy as np\n",
    "import scipy as sci\n",
    "from scipy import stats"
   ]
  },
  {
   "cell_type": "markdown",
   "metadata": {},
   "source": [
    "## Read Data "
   ]
  },
  {
   "cell_type": "code",
   "execution_count": 2,
   "metadata": {},
   "outputs": [
    {
     "name": "stdout",
     "output_type": "stream",
     "text": [
      "<class 'pandas.core.frame.DataFrame'>\n",
      "RangeIndex: 5724889 entries, 0 to 5724888\n",
      "Data columns (total 3 columns):\n",
      "pickup_community_area    float64\n",
      "month                    int64\n",
      "day                      int64\n",
      "dtypes: float64(1), int64(2)\n",
      "memory usage: 131.0 MB\n"
     ]
    },
    {
     "data": {
      "text/html": [
       "<div>\n",
       "<style scoped>\n",
       "    .dataframe tbody tr th:only-of-type {\n",
       "        vertical-align: middle;\n",
       "    }\n",
       "\n",
       "    .dataframe tbody tr th {\n",
       "        vertical-align: top;\n",
       "    }\n",
       "\n",
       "    .dataframe thead th {\n",
       "        text-align: right;\n",
       "    }\n",
       "</style>\n",
       "<table border=\"1\" class=\"dataframe\">\n",
       "  <thead>\n",
       "    <tr style=\"text-align: right;\">\n",
       "      <th></th>\n",
       "      <th>pickup_community_area</th>\n",
       "      <th>month</th>\n",
       "      <th>day</th>\n",
       "    </tr>\n",
       "  </thead>\n",
       "  <tbody>\n",
       "    <tr>\n",
       "      <th>0</th>\n",
       "      <td>8.0</td>\n",
       "      <td>1</td>\n",
       "      <td>13</td>\n",
       "    </tr>\n",
       "    <tr>\n",
       "      <th>1</th>\n",
       "      <td>8.0</td>\n",
       "      <td>1</td>\n",
       "      <td>15</td>\n",
       "    </tr>\n",
       "    <tr>\n",
       "      <th>2</th>\n",
       "      <td>8.0</td>\n",
       "      <td>1</td>\n",
       "      <td>15</td>\n",
       "    </tr>\n",
       "    <tr>\n",
       "      <th>3</th>\n",
       "      <td>8.0</td>\n",
       "      <td>1</td>\n",
       "      <td>15</td>\n",
       "    </tr>\n",
       "    <tr>\n",
       "      <th>4</th>\n",
       "      <td>8.0</td>\n",
       "      <td>1</td>\n",
       "      <td>23</td>\n",
       "    </tr>\n",
       "  </tbody>\n",
       "</table>\n",
       "</div>"
      ],
      "text/plain": [
       "   pickup_community_area  month  day\n",
       "0                    8.0      1   13\n",
       "1                    8.0      1   15\n",
       "2                    8.0      1   15\n",
       "3                    8.0      1   15\n",
       "4                    8.0      1   23"
      ]
     },
     "execution_count": 2,
     "metadata": {},
     "output_type": "execute_result"
    }
   ],
   "source": [
    "time_series_freq_near_north = pd.read_csv('time_series_pickup_freq_near_north.csv')\n",
    "time_series_freq_near_north.info()\n",
    "time_series_freq_near_north.head()"
   ]
  },
  {
   "cell_type": "markdown",
   "metadata": {},
   "source": [
    "## Find monthly and daily pickup frequency and Sort in the descending order "
   ]
  },
  {
   "cell_type": "code",
   "execution_count": 3,
   "metadata": {},
   "outputs": [
    {
     "name": "stdout",
     "output_type": "stream",
     "text": [
      "month\n",
      "5     566223\n",
      "6     565510\n",
      "4     553046\n",
      "3     549921\n",
      "7     531451\n",
      "2     485789\n",
      "8     478157\n",
      "10    463295\n",
      "12    418730\n",
      "11    413961\n",
      "9     404632\n",
      "1     294174\n",
      "Name: month, dtype: int64\n",
      "day\n",
      "12    205089\n",
      "13    199555\n",
      "9     197116\n",
      "20    196486\n",
      "14    195704\n",
      "19    195158\n",
      "16    195140\n",
      "17    191392\n",
      "18    191281\n",
      "15    191142\n",
      "21    190877\n",
      "10    189718\n",
      "8     189704\n",
      "22    188755\n",
      "3     188191\n",
      "2     188186\n",
      "23    188178\n",
      "6     187653\n",
      "11    186297\n",
      "29    186081\n",
      "4     185935\n",
      "7     185454\n",
      "1     183878\n",
      "5     182569\n",
      "28    181166\n",
      "27    178910\n",
      "26    177917\n",
      "24    172243\n",
      "30    171752\n",
      "25    168566\n",
      "31     94796\n",
      "Name: day, dtype: int64\n"
     ]
    }
   ],
   "source": [
    "month_pickup_freq = time_series_freq_near_north.groupby('month')['month'].count().sort_values(ascending=False)\n",
    "print(month_pickup_freq)\n",
    "day_pickup_freq = time_series_freq_near_north.groupby('day')['day'].count().sort_values(ascending=False)\n",
    "print(day_pickup_freq)"
   ]
  },
  {
   "cell_type": "code",
   "execution_count": null,
   "metadata": {},
   "outputs": [],
   "source": []
  }
 ],
 "metadata": {
  "kernelspec": {
   "display_name": "Python 3",
   "language": "python",
   "name": "python3"
  },
  "language_info": {
   "codemirror_mode": {
    "name": "ipython",
    "version": 3
   },
   "file_extension": ".py",
   "mimetype": "text/x-python",
   "name": "python",
   "nbconvert_exporter": "python",
   "pygments_lexer": "ipython3",
   "version": "3.6.3"
  }
 },
 "nbformat": 4,
 "nbformat_minor": 2
}
