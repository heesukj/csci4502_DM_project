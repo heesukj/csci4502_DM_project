{
 "cells": [
  {
   "cell_type": "markdown",
   "metadata": {},
   "source": [
    "# Monthly & Daily Pickup Frequency for Near West"
   ]
  },
  {
   "cell_type": "code",
   "execution_count": 1,
   "metadata": {},
   "outputs": [],
   "source": [
    "import math\n",
    "import pandas as pd\n",
    "import numpy as np\n",
    "import scipy as sci\n",
    "from scipy import stats"
   ]
  },
  {
   "cell_type": "markdown",
   "metadata": {},
   "source": [
    "## Read Data"
   ]
  },
  {
   "cell_type": "code",
   "execution_count": 2,
   "metadata": {},
   "outputs": [
    {
     "data": {
      "text/html": [
       "<div>\n",
       "<style scoped>\n",
       "    .dataframe tbody tr th:only-of-type {\n",
       "        vertical-align: middle;\n",
       "    }\n",
       "\n",
       "    .dataframe tbody tr th {\n",
       "        vertical-align: top;\n",
       "    }\n",
       "\n",
       "    .dataframe thead th {\n",
       "        text-align: right;\n",
       "    }\n",
       "</style>\n",
       "<table border=\"1\" class=\"dataframe\">\n",
       "  <thead>\n",
       "    <tr style=\"text-align: right;\">\n",
       "      <th></th>\n",
       "      <th>pickup_community_area</th>\n",
       "      <th>time</th>\n",
       "      <th>month</th>\n",
       "      <th>day</th>\n",
       "    </tr>\n",
       "  </thead>\n",
       "  <tbody>\n",
       "    <tr>\n",
       "      <th>0</th>\n",
       "      <td>28.0</td>\n",
       "      <td>08:45:00</td>\n",
       "      <td>1</td>\n",
       "      <td>19</td>\n",
       "    </tr>\n",
       "    <tr>\n",
       "      <th>1</th>\n",
       "      <td>28.0</td>\n",
       "      <td>17:45:00</td>\n",
       "      <td>1</td>\n",
       "      <td>29</td>\n",
       "    </tr>\n",
       "    <tr>\n",
       "      <th>2</th>\n",
       "      <td>28.0</td>\n",
       "      <td>09:00:00</td>\n",
       "      <td>1</td>\n",
       "      <td>4</td>\n",
       "    </tr>\n",
       "    <tr>\n",
       "      <th>3</th>\n",
       "      <td>28.0</td>\n",
       "      <td>10:15:00</td>\n",
       "      <td>1</td>\n",
       "      <td>24</td>\n",
       "    </tr>\n",
       "    <tr>\n",
       "      <th>4</th>\n",
       "      <td>28.0</td>\n",
       "      <td>13:00:00</td>\n",
       "      <td>1</td>\n",
       "      <td>11</td>\n",
       "    </tr>\n",
       "  </tbody>\n",
       "</table>\n",
       "</div>"
      ],
      "text/plain": [
       "   pickup_community_area      time  month  day\n",
       "0                   28.0  08:45:00      1   19\n",
       "1                   28.0  17:45:00      1   29\n",
       "2                   28.0  09:00:00      1    4\n",
       "3                   28.0  10:15:00      1   24\n",
       "4                   28.0  13:00:00      1   11"
      ]
     },
     "execution_count": 2,
     "metadata": {},
     "output_type": "execute_result"
    }
   ],
   "source": [
    "time_series_freq_near_west = pd.read_csv('time_series_pickup_freq_near_west.csv')\n",
    "time_series_freq_near_west.head()"
   ]
  },
  {
   "cell_type": "markdown",
   "metadata": {},
   "source": [
    "## Find monthly and daily pickup frequency and Sort in the descending order "
   ]
  },
  {
   "cell_type": "code",
   "execution_count": 6,
   "metadata": {},
   "outputs": [
    {
     "name": "stdout",
     "output_type": "stream",
     "text": [
      "month\n",
      "3     155529\n",
      "4     147420\n",
      "6     141135\n",
      "2     140350\n",
      "5     138418\n",
      "7     136163\n",
      "8     126516\n",
      "12    119751\n",
      "10    119459\n",
      "11    108114\n",
      "9     107070\n",
      "1      86568\n",
      "Name: month, dtype: int64\n",
      "day\n",
      "19    54673\n",
      "8     54226\n",
      "11    53855\n",
      "12    53635\n",
      "9     53459\n",
      "15    53316\n",
      "22    51978\n",
      "18    51961\n",
      "1     51811\n",
      "16    51471\n",
      "29    51203\n",
      "21    51156\n",
      "13    50895\n",
      "14    50865\n",
      "20    50791\n",
      "7     50637\n",
      "2     50577\n",
      "28    49729\n",
      "4     49244\n",
      "6     49151\n",
      "17    49058\n",
      "10    48771\n",
      "5     48002\n",
      "26    47720\n",
      "3     47560\n",
      "27    47546\n",
      "23    47290\n",
      "25    46351\n",
      "24    43675\n",
      "30    41333\n",
      "31    24554\n",
      "Name: day, dtype: int64\n"
     ]
    }
   ],
   "source": [
    "month_pickup_freq = time_series_freq_near_west.groupby('month')['month'].count().sort_values(ascending=False)\n",
    "print(month_pickup_freq)\n",
    "day_pickup_freq = time_series_freq_near_west.groupby('day')['day'].count().sort_values(ascending=False)\n",
    "print(day_pickup_freq)"
   ]
  },
  {
   "cell_type": "code",
   "execution_count": null,
   "metadata": {},
   "outputs": [],
   "source": []
  }
 ],
 "metadata": {
  "kernelspec": {
   "display_name": "Python 3",
   "language": "python",
   "name": "python3"
  },
  "language_info": {
   "codemirror_mode": {
    "name": "ipython",
    "version": 3
   },
   "file_extension": ".py",
   "mimetype": "text/x-python",
   "name": "python",
   "nbconvert_exporter": "python",
   "pygments_lexer": "ipython3",
   "version": "3.6.3"
  }
 },
 "nbformat": 4,
 "nbformat_minor": 2
}
