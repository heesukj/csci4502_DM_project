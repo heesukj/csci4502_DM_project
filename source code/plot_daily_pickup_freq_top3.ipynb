{
 "cells": [
  {
   "cell_type": "markdown",
   "metadata": {},
   "source": [
    "# Plot Daily Pickup Frequency for Top 3 Areas"
   ]
  },
  {
   "cell_type": "code",
   "execution_count": null,
   "metadata": {},
   "outputs": [],
   "source": [
    "%matplotlib inline\n",
    "import seaborn as sns\n",
    "import math\n",
    "import pandas as pd\n",
    "import numpy as np\n",
    "import scipy as sci\n",
    "from scipy import stats\n",
    "from sklearn.cluster import KMeans\n",
    "import matplotlib.pyplot as plt\n",
    "from dateutil.parser import parse"
   ]
  },
  {
   "cell_type": "markdown",
   "metadata": {},
   "source": [
    "## Set up the graph with data points using Plotly"
   ]
  },
  {
   "cell_type": "code",
   "execution_count": 5,
   "metadata": {},
   "outputs": [],
   "source": [
    "import plotly.plotly as py\n",
    "from plotly.graph_objs import *\n",
    "py.sign_in('kalbee', 'yPmNTGSvOrY1KrVfP0tA')\n",
    "\n",
    "trace1 = {\n",
    "  \"x\": ['0','1','2','3','4','5','6','7','8','9','10','11','12','13','14','15','16','17','18','19','20','21','22','23','24','25','26','27','28','29','30','31'], \n",
    "  \"y\": ['183878','188186','188191','185935','182569','187653','185454','189704','197116','189718','186297','205089','199555','195704','191142','195140','191392','191281','195158','196486','190877','188755','188178','172243','168566','177917','178910','181166','186081','171752','94796'], \n",
    "  \"marker\": {\n",
    "    \"color\": \"rgba(253,209,37,1)\", \n",
    "    \"line\": {\"color\": \"transparent\"}\n",
    "  },\n",
    "  \"mode\": \"lines+markers\", \n",
    "  \"name\": \"Near North Side (8.0)\", \n",
    "  \"type\": \"scatter\",\n",
    "  \"uid\": \"c31830\", \n",
    "  \"xaxis\": \"x\", \n",
    "  \"yaxis\": \"y\"\n",
    "}\n",
    "trace2 = {\n",
    "  \"x\": ['1','2','3','4','5','6','7','8','9','10','11','12','13','14','15','16','17','18','19','20','21','22','23','24','25','26','27','28','29','30','31'], \n",
    "  \"y\": ['136445','136694','129722','134173','132112','133697','140575','150575','147178','132477','142751','145112','138407','142851','146820','138327','132005','143906','144847','137765','140961','144968','128913','116388','125342','132652','126238','135141','143362','109999','65842'], \n",
    "  \"marker\": {\n",
    "    \"color\": \"rgba(74,193,109,1)\", \n",
    "    \"line\": {\"color\": \"transparent\"}\n",
    "  }, \n",
    "  \"mode\": \"lines+markers\", \n",
    "  \"name\": \"Loop (32.0)\", \n",
    "  \"type\": \"scatter\",\n",
    "  \"uid\": \"4d1208\", \n",
    "  \"xaxis\": \"x\", \n",
    "  \"yaxis\": \"y\"\n",
    "}\n",
    "trace3 = {\n",
    "  \"x\": ['1','2','3','4','5','6','7','8','9','10','11','12','13','14','15','16','17','18','19','20','21','22','23','24','25','26','27','28','29','30','31'], \n",
    "  \"y\": ['51811','50577','47560','49244','48002','49151','50637','54226','53459','48771','53855','53635','50895','50865','53316','51471','49058','51961','54673','50791','51156','51978','47290','43675','46351','47720','47546','49729','51203','41333','24554'], \n",
    "  \"marker\": {\n",
    "    \"color\": \"rgba(70,51,126,1)\", \n",
    "    \"line\": {\"color\": \"transparent\"}\n",
    "  },\n",
    "  \"mode\": \"lines+markers\", \n",
    "  \"name\": \"Near West Side (28.0)\", \n",
    "  \"type\": \"scatter\", \n",
    "  \"uid\": \"678257\", \n",
    "  \"xaxis\": \"x\", \n",
    "  \"yaxis\": \"y\"\n",
    "}\n",
    "data = Data([trace1, trace2, trace3])\n",
    "layout = {\n",
    "  \"dragmode\": \"zoom\", \n",
    "  \"hovermode\": \"closest\", \n",
    "  \"margin\": {\n",
    "    \"r\": 10, \n",
    "    \"t\": 25, \n",
    "    \"b\": 40, \n",
    "    \"l\": 60\n",
    "  }, \n",
    "  \"showlegend\": True, \n",
    "  \"xaxis\": {\n",
    "    \"domain\": [0, 1], \n",
    "  }, \n",
    "  \"yaxis\": {\n",
    "    \"domain\": [0, 1], \n",
    "    \"title\": \"Pickup Frequency\"\n",
    "  }\n",
    "}\n",
    "fig = Figure(data=data, layout=layout)\n",
    "plot_url = py.plot(fig)"
   ]
  }
 ],
 "metadata": {
  "kernelspec": {
   "display_name": "Python 3",
   "language": "python",
   "name": "python3"
  },
  "language_info": {
   "codemirror_mode": {
    "name": "ipython",
    "version": 3
   },
   "file_extension": ".py",
   "mimetype": "text/x-python",
   "name": "python",
   "nbconvert_exporter": "python",
   "pygments_lexer": "ipython3",
   "version": "3.6.3"
  }
 },
 "nbformat": 4,
 "nbformat_minor": 2
}
