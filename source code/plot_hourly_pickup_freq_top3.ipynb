{
 "cells": [
  {
   "cell_type": "markdown",
   "metadata": {},
   "source": [
    "# Plot Hourly Pickup Frequency for Top 3 Areas"
   ]
  },
  {
   "cell_type": "code",
   "execution_count": 5,
   "metadata": {},
   "outputs": [],
   "source": [
    "%matplotlib inline\n",
    "import math\n",
    "import pandas as pd\n",
    "import numpy as np\n",
    "import scipy as sci\n",
    "from scipy import stats\n",
    "from sklearn.cluster import KMeans\n",
    "import matplotlib.pyplot as plt\n",
    "from dateutil.parser import parse"
   ]
  },
  {
   "cell_type": "markdown",
   "metadata": {},
   "source": [
    "## Set up the graph with data points using Plotly"
   ]
  },
  {
   "cell_type": "code",
   "execution_count": 4,
   "metadata": {},
   "outputs": [],
   "source": [
    "import plotly.plotly as py\n",
    "from plotly.graph_objs import *\n",
    "py.sign_in('kalbee', 'yPmNTGSvOrY1KrVfP0tA')\n",
    "\n",
    "trace1 = {\n",
    "  \"x\": ['0','1','2','3','4','5','6','7','8','9','10','11','12','13','14','15','16','17','18','19','20','21','22','23'], \n",
    "  \"y\": ['205462','180835','156390','119822','81525','53682','61630','119798','207361','255257','251933','255569','281084','298458','300964','295223','303972','333284','380912','389040','348671','306582','287863','249572'], \n",
    "  \"marker\": {\n",
    "    \"color\": \"rgba(253,209,37,1)\", \n",
    "    \"line\": {\"color\": \"transparent\"}\n",
    "  },\n",
    "  \"mode\": \"lines+markers\", \n",
    "  \"name\": \"Near North Side (8.0)\", \n",
    "  \"type\": \"scatter\",\n",
    "  \"uid\": \"c31830\", \n",
    "  \"xaxis\": \"x\", \n",
    "  \"yaxis\": \"y\"\n",
    "}\n",
    "trace2 = {\n",
    "  \"x\": ['0','1','2','3','4','5','6','7','8','9','10','11','12','13','14','15','16','17','18','19','20','21','22','23'], \n",
    "  \"y\": ['72067','42079','21272','12296','9469','14794','31911','74580','144646','191446','191278','223223','271470','272782','261917','268692','302283','333391','348925','332460','263451','193920','156429','121464'],\n",
    "  \"marker\": {\n",
    "    \"color\": \"rgba(74,193,109,1)\", \n",
    "    \"line\": {\"color\": \"transparent\"}\n",
    "  }, \n",
    "  \"mode\": \"lines+markers\", \n",
    "  \"name\": \"Loop (32.0)\", \n",
    "  \"type\": \"scatter\",\n",
    "  \"uid\": \"4d1208\", \n",
    "  \"xaxis\": \"x\", \n",
    "  \"yaxis\": \"y\"\n",
    "}\n",
    "trace3 = {\n",
    "  \"x\": ['0','1','2','3','4','5','6','7','8','9','10','11','12','13','14','15','16','17','18','19','20','21','22','23'], \n",
    "  \"y\": ['47597','29300','16693','11270','8354','6646','16260','49887','104192','122627','95259','82013','86089','81109','70348','67785','75116','92052','101030','87371','70530','66812','72777','65376'],\n",
    "  \"marker\": {\n",
    "    \"color\": \"rgba(70,51,126,1)\", \n",
    "    \"line\": {\"color\": \"transparent\"}\n",
    "  },\n",
    "  \"mode\": \"lines+markers\", \n",
    "  \"name\": \"Near West Side (28.0)\", \n",
    "  \"type\": \"scatter\", \n",
    "  \"uid\": \"678257\", \n",
    "  \"xaxis\": \"x\", \n",
    "  \"yaxis\": \"y\"\n",
    "}\n",
    "data = Data([trace1, trace2, trace3])\n",
    "layout = {\n",
    "  \"dragmode\": \"zoom\", \n",
    "  \"hovermode\": \"closest\", \n",
    "  \"margin\": {\n",
    "    \"r\": 10, \n",
    "    \"t\": 25, \n",
    "    \"b\": 40, \n",
    "    \"l\": 60\n",
    "  }, \n",
    "  \"showlegend\": True, \n",
    "  \"xaxis\": {\n",
    "    \"domain\": [0, 1], \n",
    "  }, \n",
    "  \"yaxis\": {\n",
    "    \"domain\": [0, 1], \n",
    "    \"title\": \"Pickup Frequency\"\n",
    "  }\n",
    "}\n",
    "fig = Figure(data=data, layout=layout)\n",
    "plot_url = py.plot(fig)"
   ]
  },
  {
   "cell_type": "code",
   "execution_count": null,
   "metadata": {},
   "outputs": [],
   "source": []
  }
 ],
 "metadata": {
  "kernelspec": {
   "display_name": "Python 3",
   "language": "python",
   "name": "python3"
  },
  "language_info": {
   "codemirror_mode": {
    "name": "ipython",
    "version": 3
   },
   "file_extension": ".py",
   "mimetype": "text/x-python",
   "name": "python",
   "nbconvert_exporter": "python",
   "pygments_lexer": "ipython3",
   "version": "3.6.3"
  }
 },
 "nbformat": 4,
 "nbformat_minor": 2
}
