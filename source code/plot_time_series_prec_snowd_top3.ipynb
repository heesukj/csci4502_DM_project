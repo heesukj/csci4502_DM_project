{
 "cells": [
  {
   "cell_type": "markdown",
   "metadata": {},
   "source": [
    "# Plot Time Series Precipitation & Snow Depth for Top 3 Areas"
   ]
  },
  {
   "cell_type": "code",
   "execution_count": null,
   "metadata": {},
   "outputs": [],
   "source": [
    "%matplotlib inline\n",
    "import math\n",
    "import pandas as pd\n",
    "import numpy as np\n",
    "import scipy as sci\n",
    "from scipy import stats\n",
    "from sklearn.cluster import KMeans\n",
    "import matplotlib.pyplot as plt\n",
    "from dateutil.parser import parse"
   ]
  },
  {
   "cell_type": "markdown",
   "metadata": {},
   "source": [
    "## Set up the graph with data points using Plotly"
   ]
  },
  {
   "cell_type": "code",
   "execution_count": 2,
   "metadata": {},
   "outputs": [
    {
     "name": "stdout",
     "output_type": "stream",
     "text": [
      "High five! You successfully sent some data to your account on plotly. View your plot in your browser at https://plot.ly/~kalbee/0 or inside your plot.ly account where it is named 'plot from API'\n"
     ]
    }
   ],
   "source": [
    "import plotly.plotly as py\n",
    "from plotly.graph_objs import *\n",
    "py.sign_in('kalbee', 'yPmNTGSvOrY1KrVfP0tA')\n",
    "\n",
    "trace1 = {\n",
    "  \"x\": [\"Jan\", \"Feb\", \"Mar\", \"Apr\", \"May\", \"June\", \"July\", \"Aug\", \"Sept\", \"Oct\", \"Nov\", \"Dec\"],\n",
    "  \"y\": [\"2.0\",\"2.1\",\"2.4\",\"2.8\",\"2.8\",\"2.7\",\"2.5\",\"4.2\",\"3.2\",\"3.5\",\"1.5\",\"2.5\"],\n",
    "  \"marker\": {\n",
    "    \"color\": \"rgba(253,209,37,1)\", \n",
    "    \"line\": {\"color\": \"transparent\"}\n",
    "  },\n",
    "  \"mode\": \"lines+markers\", \n",
    "  \"name\": \"Average of Average Precipitation.\", \n",
    "  \"type\": \"scatter\",\n",
    "  \"uid\": \"c31830\", \n",
    "  \"xaxis\": \"x\", \n",
    "  \"yaxis\": \"y\"\n",
    "}\n",
    "trace2 = {\n",
    "  \"x\": [\"Jan\", \"Feb\", \"Mar\", \"Apr\", \"May\", \"June\", \"July\", \"Aug\", \"Sept\", \"Oct\", \"Nov\", \"Dec\"],\n",
    "  \"y\": [\"1.7\",\"1.7\",\"2.0\",\"1.3\",\"1.3\",\"1.5\",\"1.2\",\"2.1\",\"2.5\",\"2.6\",\"0.8\",\"1.1\"],\n",
    "    \"marker\": {\n",
    "    \"color\": \"rgba(74,193,109,1)\", \n",
    "    \"line\": {\"color\": \"transparent\"}\n",
    "  }, \n",
    "  \"mode\": \"lines+markers\", \n",
    "  \"name\": \"Average of Max Precipitation in a Day\", \n",
    "  \"type\": \"scatter\",\n",
    "  \"uid\": \"4d1208\", \n",
    "  \"xaxis\": \"x\", \n",
    "  \"yaxis\": \"y\"\n",
    "}\n",
    "trace3 = {\n",
    "  \"x\": [\"Jan\", \"Feb\", \"Mar\", \"Apr\", \"May\", \"June\", \"July\", \"Aug\", \"Sept\", \"Oct\", \"Nov\", \"Dec\"],\n",
    "  \"y\": [\"4.3\",\"3.2\",\"1.2\",\"1.5\",\"0.0\",\"0.0\",\"0.0\",\"0.0\",\"0.0\",\"0.0\",\"1.2\",\"3.1\"],\n",
    "  \"marker\": {\n",
    "    \"color\": \"rgba(70,51,126,1)\", \n",
    "    \"line\": {\"color\": \"transparent\"}\n",
    "  },\n",
    "  \"mode\": \"lines+markers\", \n",
    "  \"name\": \"Average of Average Snow Depth\", \n",
    "  \"type\": \"scatter\", \n",
    "  \"uid\": \"678257\", \n",
    "  \"xaxis\": \"x\", \n",
    "  \"yaxis\": \"y\"\n",
    "}\n",
    "trace4 = {\n",
    "  \"x\": [\"Jan\", \"Feb\", \"Mar\", \"Apr\", \"May\", \"June\", \"July\", \"Aug\", \"Sept\", \"Oct\", \"Nov\", \"Dec\"],\n",
    "  \"y\": [\"14.2\",\"9.8\",\"2.0\",\"2.0\",\"0.0\",\"0.0\",\"0.0\",\"0.0\",\"0.0\",\"0.0\",\"1.2\",\"9.8\"],\n",
    "  \"marker\": {\n",
    "    \"color\": \"rgba(170,81,123,1)\", \n",
    "    \"line\": {\"color\": \"transparent\"}\n",
    "  },\n",
    "  \"mode\": \"lines+markers\", \n",
    "  \"name\": \"Average of Max Snow Depth in a Day\", \n",
    "  \"type\": \"scatter\", \n",
    "  \"uid\": \"678257\", \n",
    "  \"xaxis\": \"x\", \n",
    "  \"yaxis\": \"y\"\n",
    "}\n",
    "data = Data([trace1, trace2, trace3, trace4])\n",
    "layout = {\n",
    "  \"dragmode\": \"zoom\", \n",
    "  \"hovermode\": \"closest\", \n",
    "  \"margin\": {\n",
    "    \"r\": 10, \n",
    "    \"t\": 25, \n",
    "    \"b\": 40, \n",
    "    \"l\": 60\n",
    "  }, \n",
    "  \"showlegend\": True, \n",
    "  \"xaxis\": {\n",
    "    \"domain\": [0, 1], \n",
    "  }, \n",
    "  \"yaxis\": {\n",
    "    \"domain\": [0, 1], \n",
    "    \"title\": \"Average Precipitation & Snow Depth\"\n",
    "  }\n",
    "}\n",
    "fig = Figure(data=data, layout=layout)\n",
    "plot_url = py.plot(fig)\n",
    " "
   ]
  },
  {
   "cell_type": "code",
   "execution_count": null,
   "metadata": {},
   "outputs": [],
   "source": []
  }
 ],
 "metadata": {
  "kernelspec": {
   "display_name": "Python 3",
   "language": "python",
   "name": "python3"
  },
  "language_info": {
   "codemirror_mode": {
    "name": "ipython",
    "version": 3
   },
   "file_extension": ".py",
   "mimetype": "text/x-python",
   "name": "python",
   "nbconvert_exporter": "python",
   "pygments_lexer": "ipython3",
   "version": "3.6.3"
  }
 },
 "nbformat": 4,
 "nbformat_minor": 2
}
