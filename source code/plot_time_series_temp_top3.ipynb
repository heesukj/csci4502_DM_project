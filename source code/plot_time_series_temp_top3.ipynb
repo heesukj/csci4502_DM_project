{
 "cells": [
  {
   "cell_type": "markdown",
   "metadata": {},
   "source": [
    "# Plot Time Series Temperature for Top 3 Areas"
   ]
  },
  {
   "cell_type": "code",
   "execution_count": 1,
   "metadata": {},
   "outputs": [],
   "source": [
    "%matplotlib inline\n",
    "import math\n",
    "import pandas as pd\n",
    "import numpy as np\n",
    "import scipy as sci\n",
    "from scipy import stats\n",
    "from sklearn.cluster import KMeans\n",
    "import matplotlib.pyplot as plt\n",
    "from dateutil.parser import parse"
   ]
  },
  {
   "cell_type": "markdown",
   "metadata": {},
   "source": [
    "## Set up the graph with data points using Plotly"
   ]
  },
  {
   "cell_type": "code",
   "execution_count": 6,
   "metadata": {},
   "outputs": [],
   "source": [
    "import plotly.plotly as py\n",
    "from plotly.graph_objs import *\n",
    "py.sign_in('kalbee', 'yPmNTGSvOrY1KrVfP0tA')\n",
    "\n",
    "trace1 = {\n",
    "  \"x\": [\"Jan\", \"Feb\", \"Mar\", \"Apr\", \"May\", \"June\", \"July\", \"Aug\", \"Sept\", \"Oct\", \"Nov\", \"Dec\"],\n",
    "  \"y\": ['-18','-9','14','21','33','46','57','48','42','28','14','-6'], \n",
    "  \"marker\": {\n",
    "    \"color\": \"rgba(253,209,37,1)\", \n",
    "    \"line\": {\"color\": \"transparent\"}\n",
    "  },\n",
    "  \"mode\": \"lines+markers\", \n",
    "  \"name\": \"Average of Min Temp.\", \n",
    "  \"type\": \"scatter\",\n",
    "  \"uid\": \"c31830\", \n",
    "  \"xaxis\": \"x\", \n",
    "  \"yaxis\": \"y\"\n",
    "}\n",
    "trace2 = {\n",
    "  \"x\": [\"Jan\", \"Feb\", \"Mar\", \"Apr\", \"May\", \"June\", \"July\", \"Aug\", \"Sept\", \"Oct\", \"Nov\", \"Dec\"],\n",
    "  \"y\": ['27','27','39','51','60','72','75','74','68','54','43','29'], \n",
    "  \"marker\": {\n",
    "    \"color\": \"rgba(74,193,109,1)\", \n",
    "    \"line\": {\"color\": \"transparent\"}\n",
    "  }, \n",
    "  \"mode\": \"lines+markers\", \n",
    "  \"name\": \"Average of Mean Temp.\", \n",
    "  \"type\": \"scatter\",\n",
    "  \"uid\": \"4d1208\", \n",
    "  \"xaxis\": \"x\", \n",
    "  \"yaxis\": \"y\"\n",
    "}\n",
    "trace3 = {\n",
    "  \"x\": [\"Jan\", \"Feb\", \"Mar\", \"Apr\", \"May\", \"June\", \"July\", \"Aug\", \"Sept\", \"Oct\", \"Nov\", \"Dec\"],\n",
    "  \"y\": ['65','63','79','85','93','97','104','99','95','88','73','63'], \n",
    "  \"marker\": {\n",
    "    \"color\": \"rgba(70,51,126,1)\", \n",
    "    \"line\": {\"color\": \"transparent\"}\n",
    "  },\n",
    "  \"mode\": \"lines+markers\", \n",
    "  \"name\": \"Average of Max Temp.\", \n",
    "  \"type\": \"scatter\", \n",
    "  \"uid\": \"678257\", \n",
    "  \"xaxis\": \"x\", \n",
    "  \"yaxis\": \"y\"\n",
    "}\n",
    "data = Data([trace1, trace2, trace3])\n",
    "layout = {\n",
    "  \"dragmode\": \"zoom\", \n",
    "  \"hovermode\": \"closest\", \n",
    "  \"margin\": {\n",
    "    \"r\": 10, \n",
    "    \"t\": 25, \n",
    "    \"b\": 40, \n",
    "    \"l\": 60\n",
    "  }, \n",
    "  \"showlegend\": True, \n",
    "  \"xaxis\": {\n",
    "    \"domain\": [0, 1], \n",
    "  }, \n",
    "  \"yaxis\": {\n",
    "    \"domain\": [0, 1], \n",
    "    \"title\": \"Average Temperature\"\n",
    "  }\n",
    "}\n",
    "fig = Figure(data=data, layout=layout)\n",
    "plot_url = py.plot(fig)"
   ]
  },
  {
   "cell_type": "code",
   "execution_count": null,
   "metadata": {},
   "outputs": [],
   "source": []
  }
 ],
 "metadata": {
  "kernelspec": {
   "display_name": "Python 3",
   "language": "python",
   "name": "python3"
  },
  "language_info": {
   "codemirror_mode": {
    "name": "ipython",
    "version": 3
   },
   "file_extension": ".py",
   "mimetype": "text/x-python",
   "name": "python",
   "nbconvert_exporter": "python",
   "pygments_lexer": "ipython3",
   "version": "3.6.3"
  }
 },
 "nbformat": 4,
 "nbformat_minor": 2
}
