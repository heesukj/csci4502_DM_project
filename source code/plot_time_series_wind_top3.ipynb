{
 "cells": [
  {
   "cell_type": "markdown",
   "metadata": {},
   "source": [
    "# Plot Time Series Wind Speed for Top 3 Areas"
   ]
  },
  {
   "cell_type": "code",
   "execution_count": 1,
   "metadata": {},
   "outputs": [],
   "source": [
    "%matplotlib inline\n",
    "import math\n",
    "import pandas as pd\n",
    "import numpy as np\n",
    "import scipy as sci\n",
    "from scipy import stats\n",
    "from sklearn.cluster import KMeans\n",
    "import matplotlib.pyplot as plt"
   ]
  },
  {
   "cell_type": "markdown",
   "metadata": {},
   "source": [
    "## Set up the graph with data points using Plotly"
   ]
  },
  {
   "cell_type": "code",
   "execution_count": 2,
   "metadata": {},
   "outputs": [],
   "source": [
    "import plotly.plotly as py\n",
    "from plotly.graph_objs import *\n",
    "py.sign_in('kalbee', 'yPmNTGSvOrY1KrVfP0tA')\n",
    "\n",
    "trace1 = {\n",
    "  \"x\": [\"Jan\", \"Feb\", \"Mar\", \"Apr\", \"May\", \"June\", \"July\", \"Aug\", \"Sept\", \"Oct\", \"Nov\", \"Dec\"],\n",
    "  \"y\": ['9.5','8.9','9.1','9.3','8.3','7.3','7','6.6','6.7','8','8.2','8.7'],\n",
    "  \"marker\": {\n",
    "    \"color\": \"rgba(253,209,37,1)\", \n",
    "    \"line\": {\"color\": \"transparent\"}\n",
    "  },\n",
    "  \"mode\": \"lines+markers\", \n",
    "  \"name\": \"Average of Average Wind Speed.\", \n",
    "  \"type\": \"scatter\",\n",
    "  \"uid\": \"c31830\", \n",
    "  \"xaxis\": \"x\", \n",
    "  \"yaxis\": \"y\"\n",
    "}\n",
    "trace2 = {\n",
    "  \"x\": [\"Jan\", \"Feb\", \"Mar\", \"Apr\", \"May\", \"June\", \"July\", \"Aug\", \"Sept\", \"Oct\", \"Nov\", \"Dec\"],\n",
    "  \"y\": ['18.3','19.6','18.8','18.8','15.2','17.1','12.5','11.8','17.3','16.6','22.3','21.2'],\n",
    "    \"marker\": {\n",
    "    \"color\": \"rgba(74,193,109,1)\", \n",
    "    \"line\": {\"color\": \"transparent\"}\n",
    "  }, \n",
    "  \"mode\": \"lines+markers\", \n",
    "  \"name\": \"Average of Max Wind Speed\", \n",
    "  \"type\": \"scatter\",\n",
    "  \"uid\": \"4d1208\", \n",
    "  \"xaxis\": \"x\", \n",
    "  \"yaxis\": \"y\"\n",
    "}\n",
    "trace3 = {\n",
    "  \"x\": [\"Jan\", \"Feb\", \"Mar\", \"Apr\", \"May\", \"June\", \"July\", \"Aug\", \"Sept\", \"Oct\", \"Nov\", \"Dec\"],\n",
    "  \"y\": ['2.3','4','2.8','3.5','3.5','2.6','2.9','2.7','1.8','2.2','0.7','2.2'],\n",
    "  \"marker\": {\n",
    "    \"color\": \"rgba(70,51,126,1)\", \n",
    "    \"line\": {\"color\": \"transparent\"}\n",
    "  },\n",
    "  \"mode\": \"lines+markers\", \n",
    "  \"name\": \"Average of Min Wind Speed\", \n",
    "  \"type\": \"scatter\", \n",
    "  \"uid\": \"678257\", \n",
    "  \"xaxis\": \"x\", \n",
    "  \"yaxis\": \"y\"\n",
    "}\n",
    "data = Data([trace1, trace2, trace3])\n",
    "layout = {\n",
    "  \"dragmode\": \"zoom\", \n",
    "  \"hovermode\": \"closest\", \n",
    "  \"margin\": {\n",
    "    \"r\": 10, \n",
    "    \"t\": 25, \n",
    "    \"b\": 40, \n",
    "    \"l\": 60\n",
    "  }, \n",
    "  \"showlegend\": True, \n",
    "  \"xaxis\": {\n",
    "    \"domain\": [0, 1], \n",
    "  }, \n",
    "  \"yaxis\": {\n",
    "    \"domain\": [0, 1], \n",
    "    \"title\": \"Average WInd Speed\"\n",
    "  }\n",
    "}\n",
    "fig = Figure(data=data, layout=layout)\n",
    "plot_url = py.plot(fig)\n",
    " "
   ]
  },
  {
   "cell_type": "code",
   "execution_count": null,
   "metadata": {},
   "outputs": [],
   "source": []
  }
 ],
 "metadata": {
  "kernelspec": {
   "display_name": "Python 3",
   "language": "python",
   "name": "python3"
  },
  "language_info": {
   "codemirror_mode": {
    "name": "ipython",
    "version": 3
   },
   "file_extension": ".py",
   "mimetype": "text/x-python",
   "name": "python",
   "nbconvert_exporter": "python",
   "pygments_lexer": "ipython3",
   "version": "3.6.3"
  }
 },
 "nbformat": 4,
 "nbformat_minor": 2
}
