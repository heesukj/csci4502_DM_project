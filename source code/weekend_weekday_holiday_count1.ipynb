{
 "cells": [
  {
   "cell_type": "markdown",
   "metadata": {},
   "source": [
    "# Weekend, Weekday, & Holiday Frequency"
   ]
  },
  {
   "cell_type": "code",
   "execution_count": 9,
   "metadata": {},
   "outputs": [],
   "source": [
    "%matplotlib inline\n",
    "import math\n",
    "import pandas as pd\n",
    "import numpy as np\n",
    "import scipy as sci\n",
    "from scipy import stats\n",
    "import matplotlib.pyplot as plt\n",
    "from dateutil.parser import parse"
   ]
  },
  {
   "cell_type": "markdown",
   "metadata": {},
   "source": [
    "## Read Data and Fill NAN with Zero"
   ]
  },
  {
   "cell_type": "code",
   "execution_count": 10,
   "metadata": {},
   "outputs": [
    {
     "name": "stdout",
     "output_type": "stream",
     "text": [
      "<class 'pandas.core.frame.DataFrame'>\n",
      "RangeIndex: 104 entries, 0 to 103\n",
      "Data columns (total 3 columns):\n",
      "month       104 non-null int64\n",
      "weekend     104 non-null int64\n",
      "holidays    104 non-null float64\n",
      "dtypes: float64(1), int64(2)\n",
      "memory usage: 2.5 KB\n"
     ]
    },
    {
     "data": {
      "text/html": [
       "<div>\n",
       "<style scoped>\n",
       "    .dataframe tbody tr th:only-of-type {\n",
       "        vertical-align: middle;\n",
       "    }\n",
       "\n",
       "    .dataframe tbody tr th {\n",
       "        vertical-align: top;\n",
       "    }\n",
       "\n",
       "    .dataframe thead th {\n",
       "        text-align: right;\n",
       "    }\n",
       "</style>\n",
       "<table border=\"1\" class=\"dataframe\">\n",
       "  <thead>\n",
       "    <tr style=\"text-align: right;\">\n",
       "      <th></th>\n",
       "      <th>month</th>\n",
       "      <th>weekend</th>\n",
       "      <th>holidays</th>\n",
       "    </tr>\n",
       "  </thead>\n",
       "  <tbody>\n",
       "    <tr>\n",
       "      <th>0</th>\n",
       "      <td>1</td>\n",
       "      <td>2</td>\n",
       "      <td>1.0</td>\n",
       "    </tr>\n",
       "    <tr>\n",
       "      <th>1</th>\n",
       "      <td>1</td>\n",
       "      <td>3</td>\n",
       "      <td>8.0</td>\n",
       "    </tr>\n",
       "    <tr>\n",
       "      <th>2</th>\n",
       "      <td>1</td>\n",
       "      <td>9</td>\n",
       "      <td>0.0</td>\n",
       "    </tr>\n",
       "    <tr>\n",
       "      <th>3</th>\n",
       "      <td>1</td>\n",
       "      <td>10</td>\n",
       "      <td>0.0</td>\n",
       "    </tr>\n",
       "    <tr>\n",
       "      <th>4</th>\n",
       "      <td>1</td>\n",
       "      <td>16</td>\n",
       "      <td>0.0</td>\n",
       "    </tr>\n",
       "  </tbody>\n",
       "</table>\n",
       "</div>"
      ],
      "text/plain": [
       "   month  weekend  holidays\n",
       "0      1        2       1.0\n",
       "1      1        3       8.0\n",
       "2      1        9       0.0\n",
       "3      1       10       0.0\n",
       "4      1       16       0.0"
      ]
     },
     "execution_count": 10,
     "metadata": {},
     "output_type": "execute_result"
    }
   ],
   "source": [
    "weekend_holiday_by_mth = pd.read_csv('wknd_holiday_by_month.csv')\n",
    "weekend_holiday_by_mth = weekend_holiday_by_mth.fillna(0)\n",
    "# weekend_holiday_by_mth = [int(x) for x in weekend_holiday_by_mth['holidays']]\n",
    "# df[cols] = df[cols].applymap(np.int64)\n",
    "weekend_holiday_by_mth.info()\n",
    "weekend_holiday_by_mth.head()"
   ]
  },
  {
   "cell_type": "markdown",
   "metadata": {},
   "source": [
    "## Convert float to int"
   ]
  },
  {
   "cell_type": "code",
   "execution_count": 5,
   "metadata": {},
   "outputs": [
    {
     "data": {
      "text/html": [
       "<div>\n",
       "<style scoped>\n",
       "    .dataframe tbody tr th:only-of-type {\n",
       "        vertical-align: middle;\n",
       "    }\n",
       "\n",
       "    .dataframe tbody tr th {\n",
       "        vertical-align: top;\n",
       "    }\n",
       "\n",
       "    .dataframe thead th {\n",
       "        text-align: right;\n",
       "    }\n",
       "</style>\n",
       "<table border=\"1\" class=\"dataframe\">\n",
       "  <thead>\n",
       "    <tr style=\"text-align: right;\">\n",
       "      <th></th>\n",
       "      <th>month</th>\n",
       "      <th>weekend</th>\n",
       "      <th>holidays</th>\n",
       "    </tr>\n",
       "  </thead>\n",
       "  <tbody>\n",
       "    <tr>\n",
       "      <th>99</th>\n",
       "      <td>12</td>\n",
       "      <td>17</td>\n",
       "      <td>0</td>\n",
       "    </tr>\n",
       "    <tr>\n",
       "      <th>100</th>\n",
       "      <td>12</td>\n",
       "      <td>18</td>\n",
       "      <td>0</td>\n",
       "    </tr>\n",
       "    <tr>\n",
       "      <th>101</th>\n",
       "      <td>12</td>\n",
       "      <td>24</td>\n",
       "      <td>0</td>\n",
       "    </tr>\n",
       "    <tr>\n",
       "      <th>102</th>\n",
       "      <td>12</td>\n",
       "      <td>25</td>\n",
       "      <td>0</td>\n",
       "    </tr>\n",
       "    <tr>\n",
       "      <th>103</th>\n",
       "      <td>12</td>\n",
       "      <td>31</td>\n",
       "      <td>0</td>\n",
       "    </tr>\n",
       "  </tbody>\n",
       "</table>\n",
       "</div>"
      ],
      "text/plain": [
       "     month  weekend  holidays\n",
       "99      12       17         0\n",
       "100     12       18         0\n",
       "101     12       24         0\n",
       "102     12       25         0\n",
       "103     12       31         0"
      ]
     },
     "execution_count": 5,
     "metadata": {},
     "output_type": "execute_result"
    }
   ],
   "source": [
    "weekend_holiday_by_mth[\"holidays\"] = weekend_holiday_by_mth[\"holidays\"].astype(int)\n",
    "# df['a'] = df['a'].round(0).astype(int)\n",
    "weekend_holiday_by_mth.tail()"
   ]
  },
  {
   "cell_type": "markdown",
   "metadata": {},
   "source": [
    "## Total count of weekends and holidays in 2016"
   ]
  },
  {
   "cell_type": "code",
   "execution_count": 129,
   "metadata": {},
   "outputs": [
    {
     "name": "stdout",
     "output_type": "stream",
     "text": [
      "104\n"
     ]
    }
   ],
   "source": [
    "total_count = weekend_holiday_by_mth['weekend'].count()\n",
    "print(total_count)"
   ]
  },
  {
   "cell_type": "markdown",
   "metadata": {},
   "source": [
    "## Get unique values of weekends"
   ]
  },
  {
   "cell_type": "code",
   "execution_count": 7,
   "metadata": {},
   "outputs": [
    {
     "data": {
      "text/plain": [
       "array([ 1,  2,  3,  4,  5,  6,  7,  8,  9, 10, 11, 12, 13, 14, 15, 16, 17,\n",
       "       18, 19, 20, 21, 22, 23, 24, 25, 26, 27, 28, 29, 30, 31])"
      ]
     },
     "execution_count": 7,
     "metadata": {},
     "output_type": "execute_result"
    }
   ],
   "source": [
    "# get unique days of weekend\n",
    "np.sort(weekend_holiday_by_mth['weekend'].agg(pd.unique))"
   ]
  },
  {
   "cell_type": "markdown",
   "metadata": {},
   "source": [
    "## Get unique values of holidays"
   ]
  },
  {
   "cell_type": "code",
   "execution_count": 8,
   "metadata": {},
   "outputs": [
    {
     "data": {
      "text/plain": [
       "array([ 0,  1,  4,  5,  6,  7,  8,  9, 10, 11, 12, 13, 14, 15, 16, 17, 19,\n",
       "       21, 23, 24, 25, 26, 27, 28, 30, 31])"
      ]
     },
     "execution_count": 8,
     "metadata": {},
     "output_type": "execute_result"
    }
   ],
   "source": [
    "# get unique days of weekend\n",
    "np.sort(weekend_holiday_by_mth['holidays'].agg(pd.unique))"
   ]
  },
  {
   "cell_type": "markdown",
   "metadata": {},
   "source": [
    "## Compute Weekend and and Weekend Count"
   ]
  },
  {
   "cell_type": "code",
   "execution_count": 144,
   "metadata": {},
   "outputs": [
    {
     "name": "stdout",
     "output_type": "stream",
     "text": [
      "weekend\n",
      "3     5\n",
      "17    5\n",
      "10    5\n",
      "24    5\n",
      "16    4\n",
      "13    4\n",
      "30    4\n",
      "9     4\n",
      "20    4\n",
      "6     4\n",
      "23    4\n",
      "27    4\n",
      "2     4\n",
      "7     3\n",
      "5     3\n",
      "4     3\n",
      "11    3\n",
      "12    3\n",
      "31    3\n",
      "14    3\n",
      "18    3\n",
      "19    3\n",
      "21    3\n",
      "25    3\n",
      "26    3\n",
      "28    3\n",
      "15    2\n",
      "8     2\n",
      "22    2\n",
      "29    2\n",
      "1     1\n",
      "Name: weekend, dtype: int64\n",
      "weekend\n",
      "3     360\n",
      "17    360\n",
      "10    360\n",
      "24    360\n",
      "16    361\n",
      "13    361\n",
      "30    361\n",
      "9     361\n",
      "20    361\n",
      "6     361\n",
      "23    361\n",
      "27    361\n",
      "2     361\n",
      "7     362\n",
      "5     362\n",
      "4     362\n",
      "11    362\n",
      "12    362\n",
      "31    362\n",
      "14    362\n",
      "18    362\n",
      "19    362\n",
      "21    362\n",
      "25    362\n",
      "26    362\n",
      "28    362\n",
      "15    363\n",
      "8     363\n",
      "22    363\n",
      "29    363\n",
      "1     364\n",
      "Name: weekend, dtype: int64\n"
     ]
    },
    {
     "data": {
      "text/html": [
       "<div>\n",
       "<style scoped>\n",
       "    .dataframe tbody tr th:only-of-type {\n",
       "        vertical-align: middle;\n",
       "    }\n",
       "\n",
       "    .dataframe tbody tr th {\n",
       "        vertical-align: top;\n",
       "    }\n",
       "\n",
       "    .dataframe thead th {\n",
       "        text-align: right;\n",
       "    }\n",
       "</style>\n",
       "<table border=\"1\" class=\"dataframe\">\n",
       "  <thead>\n",
       "    <tr style=\"text-align: right;\">\n",
       "      <th></th>\n",
       "      <th>month</th>\n",
       "      <th>weekend</th>\n",
       "      <th>holidays</th>\n",
       "      <th>weekend_count</th>\n",
       "      <th>weekdays_count</th>\n",
       "    </tr>\n",
       "  </thead>\n",
       "  <tbody>\n",
       "    <tr>\n",
       "      <th>0</th>\n",
       "      <td>1</td>\n",
       "      <td>2</td>\n",
       "      <td>1</td>\n",
       "      <td>NaN</td>\n",
       "      <td>NaN</td>\n",
       "    </tr>\n",
       "    <tr>\n",
       "      <th>1</th>\n",
       "      <td>1</td>\n",
       "      <td>3</td>\n",
       "      <td>8</td>\n",
       "      <td>1.0</td>\n",
       "      <td>364.0</td>\n",
       "    </tr>\n",
       "    <tr>\n",
       "      <th>2</th>\n",
       "      <td>1</td>\n",
       "      <td>9</td>\n",
       "      <td>0</td>\n",
       "      <td>4.0</td>\n",
       "      <td>361.0</td>\n",
       "    </tr>\n",
       "    <tr>\n",
       "      <th>3</th>\n",
       "      <td>1</td>\n",
       "      <td>10</td>\n",
       "      <td>0</td>\n",
       "      <td>5.0</td>\n",
       "      <td>360.0</td>\n",
       "    </tr>\n",
       "    <tr>\n",
       "      <th>4</th>\n",
       "      <td>1</td>\n",
       "      <td>16</td>\n",
       "      <td>0</td>\n",
       "      <td>3.0</td>\n",
       "      <td>362.0</td>\n",
       "    </tr>\n",
       "  </tbody>\n",
       "</table>\n",
       "</div>"
      ],
      "text/plain": [
       "   month  weekend  holidays  weekend_count  weekdays_count\n",
       "0      1        2         1            NaN             NaN\n",
       "1      1        3         8            1.0           364.0\n",
       "2      1        9         0            4.0           361.0\n",
       "3      1       10         0            5.0           360.0\n",
       "4      1       16         0            3.0           362.0"
      ]
     },
     "execution_count": 144,
     "metadata": {},
     "output_type": "execute_result"
    }
   ],
   "source": [
    "# get freq. of each unique day\n",
    "weekend_count = weekend_holiday_by_mth.groupby('weekend')['weekend'].count().sort_values(ascending=False)\n",
    "print(weekend_count)\n",
    "weekend_holiday_by_mth['weekend_count'] = weekend_holiday_by_mth.groupby('weekend')['weekend'].count()\n",
    "weekdays_count = 365 - weekend_count\n",
    "print(weekdays_count)\n",
    "weekend_holiday_by_mth['weekdays_count'] = 365 - weekend_count\n",
    "\n",
    "weekend_holiday_by_mth.head()\n"
   ]
  },
  {
   "cell_type": "markdown",
   "metadata": {},
   "source": [
    "## Compute Holiday Count"
   ]
  },
  {
   "cell_type": "code",
   "execution_count": 136,
   "metadata": {},
   "outputs": [
    {
     "name": "stdout",
     "output_type": "stream",
     "text": [
      "holidays\n",
      "0     68\n",
      "17     3\n",
      "15     3\n",
      "1      2\n",
      "5      2\n",
      "8      2\n",
      "11     2\n",
      "31     2\n",
      "14     2\n",
      "25     2\n",
      "9      1\n",
      "28     1\n",
      "4      1\n",
      "27     1\n",
      "6      1\n",
      "7      1\n",
      "26     1\n",
      "21     1\n",
      "19     1\n",
      "12     1\n",
      "13     1\n",
      "30     1\n",
      "24     1\n",
      "16     1\n",
      "23     1\n",
      "10     1\n",
      "Name: holidays, dtype: int64\n"
     ]
    }
   ],
   "source": [
    "holidays_count = weekend_holiday_by_mth.groupby('holidays')['holidays'].count().sort_values(ascending=False)\n",
    "print(holidays_count)"
   ]
  },
  {
   "cell_type": "code",
   "execution_count": null,
   "metadata": {},
   "outputs": [],
   "source": []
  }
 ],
 "metadata": {
  "kernelspec": {
   "display_name": "Python 3",
   "language": "python",
   "name": "python3"
  },
  "language_info": {
   "codemirror_mode": {
    "name": "ipython",
    "version": 3
   },
   "file_extension": ".py",
   "mimetype": "text/x-python",
   "name": "python",
   "nbconvert_exporter": "python",
   "pygments_lexer": "ipython3",
   "version": "3.6.3"
  }
 },
 "nbformat": 4,
 "nbformat_minor": 2
}
